{
 "cells": [
  {
   "cell_type": "code",
   "execution_count": 4,
   "metadata": {},
   "outputs": [
    {
     "ename": "AttributeError",
     "evalue": "'NoneType' object has no attribute 'get_text'",
     "output_type": "error",
     "traceback": [
      "\u001b[1;31m---------------------------------------------------------------------------\u001b[0m",
      "\u001b[1;31mAttributeError\u001b[0m                            Traceback (most recent call last)",
      "\u001b[1;32m<ipython-input-4-8123165b7f20>\u001b[0m in \u001b[0;36m<module>\u001b[1;34m\u001b[0m\n\u001b[0;32m     27\u001b[0m \u001b[1;31m# 1. Make the eBay url list\u001b[0m\u001b[1;33m\u001b[0m\u001b[1;33m\u001b[0m\u001b[1;33m\u001b[0m\u001b[0m\n\u001b[0;32m     28\u001b[0m \u001b[1;31m# 2. Use the returned url list to search eBay and scrape and print information on each item\u001b[0m\u001b[1;33m\u001b[0m\u001b[1;33m\u001b[0m\u001b[1;33m\u001b[0m\u001b[0m\n\u001b[1;32m---> 29\u001b[1;33m \u001b[0mebay_scrape\u001b[0m\u001b[1;33m(\u001b[0m\u001b[0murl\u001b[0m\u001b[1;33m)\u001b[0m\u001b[1;33m\u001b[0m\u001b[1;33m\u001b[0m\u001b[0m\n\u001b[0m",
      "\u001b[1;32m<ipython-input-4-8123165b7f20>\u001b[0m in \u001b[0;36mebay_scrape\u001b[1;34m(url)\u001b[0m\n\u001b[0;32m     15\u001b[0m     \u001b[1;31m#name = soup.find(\"h1\", {\"class\": \"ma-title\"}).get_text()\u001b[0m\u001b[1;33m\u001b[0m\u001b[1;33m\u001b[0m\u001b[1;33m\u001b[0m\u001b[0m\n\u001b[0;32m     16\u001b[0m     \u001b[1;31m# Scrapes the first listed item's price\u001b[0m\u001b[1;33m\u001b[0m\u001b[1;33m\u001b[0m\u001b[1;33m\u001b[0m\u001b[0m\n\u001b[1;32m---> 17\u001b[1;33m     \u001b[0mprice\u001b[0m \u001b[1;33m=\u001b[0m \u001b[0msoup\u001b[0m\u001b[1;33m.\u001b[0m\u001b[0mfind\u001b[0m\u001b[1;33m(\u001b[0m\u001b[1;34m\"span\"\u001b[0m\u001b[1;33m,\u001b[0m \u001b[1;33m{\u001b[0m\u001b[1;34m\"class\"\u001b[0m\u001b[1;33m:\u001b[0m \u001b[1;34m\"priceVal\"\u001b[0m\u001b[1;33m}\u001b[0m\u001b[1;33m)\u001b[0m\u001b[1;33m.\u001b[0m\u001b[0mget_text\u001b[0m\u001b[1;33m(\u001b[0m\u001b[1;33m)\u001b[0m\u001b[1;33m\u001b[0m\u001b[1;33m\u001b[0m\u001b[0m\n\u001b[0m\u001b[0;32m     18\u001b[0m     \u001b[1;31m#price = soup.find(\"span\", {\"class\": \"s-item__freeReturns\"}).get_text()\u001b[0m\u001b[1;33m\u001b[0m\u001b[1;33m\u001b[0m\u001b[1;33m\u001b[0m\u001b[0m\n\u001b[0;32m     19\u001b[0m \u001b[1;33m\u001b[0m\u001b[0m\n",
      "\u001b[1;31mAttributeError\u001b[0m: 'NoneType' object has no attribute 'get_text'"
     ]
    }
   ],
   "source": [
    "from bs4 import BeautifulSoup\n",
    "import requests\n",
    "\n",
    "url = \"https://www.alibaba.com/trade/search?fsb=y&IndexArea=product_en&CatId=&SearchText=i+phone+8\"\n",
    "\n",
    "\n",
    "# Scrapes and prints the url, name, and price of the first item result listed on eBay\n",
    "def ebay_scrape(url):\n",
    "    res = requests.get(url)\n",
    "    # Raises an exception error if there's an error downloading the website\n",
    "    res.raise_for_status()\n",
    "    # Creates a BeautifulSoup object for HTML parsing\n",
    "    soup = BeautifulSoup(res.text, 'html.parser')\n",
    "    # Scrapes the first listed item's name\n",
    "    name = soup.find(\"a\", {\"class\": \"ma-title\"}).get_text()\n",
    "    # Scrapes the first listed item's price\n",
    "    price = soup.find(\"span\", {\"class\": \"priceVal\"}).get_text()\n",
    "    #price = soup.find(\"span\", {\"class\": \"s-item__freeReturns\"}).get_text()\n",
    "\n",
    "    # Prints the url, listed item name, and the price of the item\n",
    "    print(url)\n",
    "    print(\"Item Name: \" + name)\n",
    "    print(\"Price: \" + price + \"\\n\")\n",
    "\n",
    "\n",
    "# Runs the code\n",
    "# 1. Make the eBay url list\n",
    "# 2. Use the returned url list to search eBay and scrape and print information on each item\n",
    "ebay_scrape(url)"
   ]
  },
  {
   "cell_type": "code",
   "execution_count": null,
   "metadata": {},
   "outputs": [],
   "source": []
  }
 ],
 "metadata": {
  "kernelspec": {
   "display_name": "Python 3",
   "language": "python",
   "name": "python3"
  },
  "language_info": {
   "codemirror_mode": {
    "name": "ipython",
    "version": 3
   },
   "file_extension": ".py",
   "mimetype": "text/x-python",
   "name": "python",
   "nbconvert_exporter": "python",
   "pygments_lexer": "ipython3",
   "version": "3.7.3"
  }
 },
 "nbformat": 4,
 "nbformat_minor": 2
}
