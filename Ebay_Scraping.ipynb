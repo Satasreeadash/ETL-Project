{
 "cells": [
  {
   "cell_type": "code",
   "execution_count": 3,
   "metadata": {},
   "outputs": [
    {
     "name": "stdout",
     "output_type": "stream",
     "text": [
      "https://www.ebay.com/sch/i.html?_from=R40&_trksid=p2047675.m570.l1313.TR12.TRC2.A0.H0.Xi+phone+8.TRS0&_nkw=i+phone+8&_sacat=0\n",
      "Item Name: Apple iPhone 8 - 64GB-256GB GSM/CDMA Unlocked A1863 – Very Nice!\n",
      "Price: $299.00\n",
      "\n"
     ]
    }
   ],
   "source": [
    "from bs4 import BeautifulSoup\n",
    "import requests\n",
    "\n",
    "url = \"https://www.ebay.com/sch/i.html?_from=R40&_trksid=p2047675.m570.l1313.TR12.TRC2.A0.H0.Xi+phone+8.TRS0&_nkw=i+phone+8&_sacat=0\"\n",
    "\n",
    "\n",
    "# Scrapes and prints the url, name, and price of the first item result listed on eBay\n",
    "def ebay_scrape(url):\n",
    "    res = requests.get(url)\n",
    "    # Raises an exception error if there's an error downloading the website\n",
    "    res.raise_for_status()\n",
    "    # Creates a BeautifulSoup object for HTML parsing\n",
    "    soup = BeautifulSoup(res.text, 'html.parser')\n",
    "    # Scrapes the first listed item's name\n",
    "    name = soup.find(\"h3\", {\"class\": \"s-item__title\"}).get_text(separator=u\" \")\n",
    "    # Scrapes the first listed item's price\n",
    "    price = soup.find(\"span\", {\"class\": \"s-item__price\"}).get_text()\n",
    "    #price = soup.find(\"span\", {\"class\": \"s-item__freeReturns\"}).get_text()\n",
    "\n",
    "    # Prints the url, listed item name, and the price of the item\n",
    "    print(url)\n",
    "    print(\"Item Name: \" + name)\n",
    "    print(\"Price: \" + price + \"\\n\")\n",
    "\n",
    "\n",
    "# Runs the code\n",
    "# 1. Make the eBay url list\n",
    "# 2. Use the returned url list to search eBay and scrape and print information on each item\n",
    "ebay_scrape(url)"
   ]
  },
  {
   "cell_type": "code",
   "execution_count": null,
   "metadata": {},
   "outputs": [],
   "source": []
  }
 ],
 "metadata": {
  "kernelspec": {
   "display_name": "Python 3",
   "language": "python",
   "name": "python3"
  },
  "language_info": {
   "codemirror_mode": {
    "name": "ipython",
    "version": 3
   },
   "file_extension": ".py",
   "mimetype": "text/x-python",
   "name": "python",
   "nbconvert_exporter": "python",
   "pygments_lexer": "ipython3",
   "version": "3.7.3"
  }
 },
 "nbformat": 4,
 "nbformat_minor": 2
}
